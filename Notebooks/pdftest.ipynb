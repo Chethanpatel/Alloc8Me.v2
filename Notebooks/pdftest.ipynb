{
 "cells": [
  {
   "cell_type": "code",
   "execution_count": 4,
   "id": "1a90ab5d-7352-47df-b809-b3d7dda63ae1",
   "metadata": {},
   "outputs": [
    {
     "name": "stdout",
     "output_type": "stream",
     "text": [
      "PDF created successfully.\n"
     ]
    }
   ],
   "source": [
    "import pandas as pd\n",
    "from fpdf import FPDF\n",
    "\n",
    "class PDF(FPDF):\n",
    "    def header(self):\n",
    "        self.set_font('Arial', 'B', 12)\n",
    "        self.cell(0, 10, 'DataFrame to PDF', 0, 1, 'C')\n",
    "\n",
    "    def footer(self):\n",
    "        self.set_y(-15)\n",
    "        self.set_font('Arial', 'I', 8)\n",
    "        self.cell(0, 10, f'Page {self.page_no()}', 0, 0, 'C')\n",
    "\n",
    "    def table(self, df):\n",
    "        self.set_font('Arial', '', 10)\n",
    "        effective_page_width = self.w - 2 * self.l_margin\n",
    "        col_width = effective_page_width / len(df.columns)\n",
    "        row_height = self.font_size * 1.5\n",
    "        # Print column headers\n",
    "        for col in df.columns:\n",
    "            self.cell(col_width, row_height, str(col), border=1)\n",
    "        self.ln(row_height)\n",
    "        # Print rows\n",
    "        for row in df.itertuples(index=False):\n",
    "            for value in row:\n",
    "                self.cell(col_width, row_height, str(value), border=1)\n",
    "            self.ln(row_height)\n",
    "\n",
    "\n",
    "df = pd.read_csv()\n",
    "\n",
    "# Create PDF\n",
    "pdf = PDF()\n",
    "pdf.add_page()\n",
    "pdf.table(df)\n",
    "pdf.output('dataframe.pdf')\n",
    "\n",
    "print(\"PDF created successfully.\")\n"
   ]
  },
  {
   "cell_type": "code",
   "execution_count": null,
   "id": "b75eac40-c8af-4ffe-b6fe-d8ad381cc654",
   "metadata": {},
   "outputs": [],
   "source": []
  }
 ],
 "metadata": {
  "kernelspec": {
   "display_name": "Python 3 (ipykernel)",
   "language": "python",
   "name": "python3"
  },
  "language_info": {
   "codemirror_mode": {
    "name": "ipython",
    "version": 3
   },
   "file_extension": ".py",
   "mimetype": "text/x-python",
   "name": "python",
   "nbconvert_exporter": "python",
   "pygments_lexer": "ipython3",
   "version": "3.11.9"
  }
 },
 "nbformat": 4,
 "nbformat_minor": 5
}
